{
 "cells": [
  {
   "cell_type": "code",
   "execution_count": 1,
   "id": "8ff9dbe4",
   "metadata": {},
   "outputs": [],
   "source": [
    "import import_ipynb\n",
    "import pandas as pd"
   ]
  },
  {
   "cell_type": "code",
   "execution_count": 2,
   "id": "5872259f",
   "metadata": {},
   "outputs": [
    {
     "name": "stdout",
     "output_type": "stream",
     "text": [
      "importing Jupyter notebook from mondrian_functions.ipynb\n"
     ]
    }
   ],
   "source": [
    "from mondrian_functions  import *"
   ]
  },
  {
   "cell_type": "code",
   "execution_count": 3,
   "id": "e39f9450",
   "metadata": {},
   "outputs": [],
   "source": [
    "def recursive_iteration(dataframe, k):\n",
    "    resultant_data =''\n",
    "    \n",
    "    if len(dataframe) > k:\n",
    "\n",
    "        qi_dimensions = find_qi_dimensions(dataframe) \n",
    "\n",
    "        best_columns = best_qi_dimension(qi_dimensions)\n",
    "\n",
    "        best_column = dataframe[best_columns]\n",
    "\n",
    "        median_index = get_median_index(best_column)\n",
    "\n",
    "        lhs_df, rhs_df = split_dataframe(dataframe, median_index)\n",
    "\n",
    "        lhs_data = recursive_iteration(lhs_df, k)\n",
    "        \n",
    "        rhs_data = recursive_iteration(rhs_df, k)\n",
    "        \n",
    "        final_dataframe = [lhs_data, rhs_data]\n",
    "        resultant_data = pd.concat(final_dataframe, ignore_index=True)\n",
    "        \n",
    "    else:\n",
    "        resultant_data = anonymize_data(dataframe)\n",
    "    \n",
    "    return resultant_data\n",
    "        "
   ]
  }
 ],
 "metadata": {
  "kernelspec": {
   "display_name": "Python 3 (ipykernel)",
   "language": "python",
   "name": "python3"
  },
  "language_info": {
   "codemirror_mode": {
    "name": "ipython",
    "version": 3
   },
   "file_extension": ".py",
   "mimetype": "text/x-python",
   "name": "python",
   "nbconvert_exporter": "python",
   "pygments_lexer": "ipython3",
   "version": "3.10.4"
  }
 },
 "nbformat": 4,
 "nbformat_minor": 5
}
