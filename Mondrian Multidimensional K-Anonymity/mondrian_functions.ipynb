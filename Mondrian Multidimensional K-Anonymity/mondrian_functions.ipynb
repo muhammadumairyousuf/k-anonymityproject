{
 "cells": [
  {
   "cell_type": "code",
   "execution_count": 1,
   "id": "27a8d067",
   "metadata": {},
   "outputs": [],
   "source": [
    "import pandas as pd"
   ]
  },
  {
   "cell_type": "code",
   "execution_count": 2,
   "id": "becd32dd",
   "metadata": {},
   "outputs": [],
   "source": [
    "def find_qi_dimensions(dataframe):\n",
    "    dimensions = {}\n",
    "    \n",
    "    for column in dataframe:\n",
    "        difference = dataframe[column].max() - dataframe[column].min()\n",
    "        maximum = dataframe[column].max()\n",
    "        dimension = difference / maximum\n",
    "        dimensions[column]= dimension\n",
    "          \n",
    "    return dimensions"
   ]
  },
  {
   "cell_type": "code",
   "execution_count": 3,
   "id": "2695e0c9",
   "metadata": {},
   "outputs": [],
   "source": [
    "def best_qi_dimension(qi_dimensions):\n",
    "    \n",
    "    max_column_name = max(qi_dimensions, key=qi_dimensions.get)\n",
    "    \n",
    "    return max_column_name"
   ]
  },
  {
   "cell_type": "code",
   "execution_count": 4,
   "id": "02b9af1e",
   "metadata": {},
   "outputs": [],
   "source": [
    "def get_median_index(df):\n",
    "\n",
    "    index = 0\n",
    "\n",
    "    if len(df) % 2 == 0:\n",
    "        index = len(df)/2 \n",
    "    else:\n",
    "        index = (len(df)/2)+1\n",
    "    \n",
    "    return index"
   ]
  },
  {
   "cell_type": "code",
   "execution_count": 5,
   "id": "d74bf715",
   "metadata": {},
   "outputs": [],
   "source": [
    "def split_dataframe(df, median_index):\n",
    "\n",
    "    lhs_df = df[0:int(median_index)]\n",
    "    rhs_df = df[int(median_index):len(df)]\n",
    "    \n",
    "    return lhs_df, rhs_df"
   ]
  },
  {
   "cell_type": "code",
   "execution_count": 6,
   "id": "1797f5bb",
   "metadata": {},
   "outputs": [],
   "source": [
    "def anonymize_data(df):\n",
    "    \n",
    "    columns = []\n",
    "    rows = []\n",
    "    \n",
    "    for feature in df:\n",
    "        min = (df[feature].min())\n",
    "        max = (df[feature].max())\n",
    "        \n",
    "        updated_value = ''\n",
    "        \n",
    "        if min == max:\n",
    "            updated_value = str(max)\n",
    "        else:\n",
    "            updated_value = str(min)+ \"-\" + str(max)\n",
    "        \n",
    "                      \n",
    "        columns.append(updated_value)\n",
    "    size = df.shape[0]\n",
    "    \n",
    "    for i in range(size):\n",
    "        rows.append(columns)\n",
    "    \n",
    "    resultant_data = pd.DataFrame(rows, columns=df.columns)\n",
    "    return resultant_data"
   ]
  },
  {
   "cell_type": "code",
   "execution_count": null,
   "id": "ac41f8f2",
   "metadata": {},
   "outputs": [],
   "source": []
  },
  {
   "cell_type": "code",
   "execution_count": null,
   "id": "27ffe803",
   "metadata": {},
   "outputs": [],
   "source": []
  }
 ],
 "metadata": {
  "kernelspec": {
   "display_name": "Python 3 (ipykernel)",
   "language": "python",
   "name": "python3"
  },
  "language_info": {
   "codemirror_mode": {
    "name": "ipython",
    "version": 3
   },
   "file_extension": ".py",
   "mimetype": "text/x-python",
   "name": "python",
   "nbconvert_exporter": "python",
   "pygments_lexer": "ipython3",
   "version": "3.10.4"
  }
 },
 "nbformat": 4,
 "nbformat_minor": 5
}
